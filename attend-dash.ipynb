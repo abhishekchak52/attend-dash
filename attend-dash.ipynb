{
 "cells": [
  {
   "cell_type": "markdown",
   "metadata": {},
   "source": [
    "# attend-dash\n",
    " Currently this notebook is divided into parts. Run only the parts you need. Run the first part the first time you open this notebook."
   ]
  },
  {
   "cell_type": "markdown",
   "metadata": {},
   "source": [
    "## 1. Scraping"
   ]
  },
  {
   "cell_type": "code",
   "execution_count": 1,
   "metadata": {},
   "outputs": [],
   "source": [
    "import requests"
   ]
  },
  {
   "cell_type": "code",
   "execution_count": 2,
   "metadata": {},
   "outputs": [],
   "source": [
    "url = \"http://apf.ststephens.edu/attendance_stku2018\"\n",
    "\n",
    "payload = {\n",
    "'programme':'33',\n",
    "'semester':'10',\n",
    "'month':'07'\n",
    "}"
   ]
  },
  {
   "cell_type": "code",
   "execution_count": 5,
   "metadata": {},
   "outputs": [],
   "source": [
    "r = requests.post(url, data=payload)\n"
   ]
  },
  {
   "cell_type": "code",
   "execution_count": null,
   "metadata": {},
   "outputs": [],
   "source": [
    "f = open('response.html', 'w')\n",
    "f.write(r.text)"
   ]
  },
  {
   "cell_type": "markdown",
   "metadata": {},
   "source": [
    "## 2. Cleaning"
   ]
  },
  {
   "cell_type": "code",
   "execution_count": 1,
   "metadata": {},
   "outputs": [],
   "source": [
    "from bs4 import BeautifulSoup\n"
   ]
  },
  {
   "cell_type": "code",
   "execution_count": 2,
   "metadata": {},
   "outputs": [],
   "source": [
    "f = open('response.html', 'r') \n",
    "\n",
    "soup = BeautifulSoup(f.read(),'html.parser')"
   ]
  },
  {
   "cell_type": "code",
   "execution_count": 3,
   "metadata": {},
   "outputs": [
    {
     "data": {
      "text/plain": [
       "['Media and  Communications GE II',\n",
       " 'Making of Contemporary India',\n",
       " 'Indian Economy - I',\n",
       " 'Money and Banking',\n",
       " 'Computer Networks and Internet Technologies',\n",
       " 'Theory of Functions',\n",
       " 'Group Theory - I',\n",
       " 'Multivariate Calculus',\n",
       " 'Multivariate Calculus Group I',\n",
       " 'Multivariate Calculus Group II',\n",
       " 'Latex and HTML SEC Group I',\n",
       " 'Latex and HTML SEC Group II']"
      ]
     },
     "execution_count": 3,
     "metadata": {},
     "output_type": "execute_result"
    }
   ],
   "source": [
    "def is_paper_name(colspan):\n",
    "    ''' Paper names have headers which are 6 columns wide '''\n",
    "    return colspan and colspan == '6'\n",
    "\n",
    "headers = [paper_name.text.strip() for paper_name  in soup.find_all(colspan = is_paper_name)]\n",
    "headers"
   ]
  },
  {
   "cell_type": "code",
   "execution_count": 4,
   "metadata": {},
   "outputs": [
    {
     "data": {
      "text/plain": [
       "list"
      ]
     },
     "execution_count": 4,
     "metadata": {},
     "output_type": "execute_result"
    }
   ],
   "source": [
    "def is_student_record(class_attr):\n",
    "    return class_attr and class_attr == 'trhover'\n",
    "data = soup.find_all('tr',class_='trhover')\n",
    "attendance = data[0].get_text().splitlines()\n",
    "type(attendance)"
   ]
  },
  {
   "cell_type": "code",
   "execution_count": 6,
   "metadata": {},
   "outputs": [
    {
     "data": {
      "text/plain": [
       "[('Media and  Communications GE II', ['5', '0', '0', '0', '0', '0']),\n",
       " ('Making of Contemporary India', ['', '', '', '', '', '']),\n",
       " ('Indian Economy - I', ['', '', '', '', '', '']),\n",
       " ('Money and Banking', ['', '', '', '', '', '']),\n",
       " ('Computer Networks and Internet Technologies', ['', '', '', '', '', '']),\n",
       " ('Theory of Functions', ['8', '7', '0', '0', '0', '0']),\n",
       " ('Group Theory - I', ['9', '8', '0', '0', '0', '0']),\n",
       " ('Multivariate Calculus', ['5', '5', '0', '0', '0', '0']),\n",
       " ('Multivariate Calculus Group I', ['', '', '', '', '', '']),\n",
       " ('Multivariate Calculus Group II', ['0', '0', '0', '0', '4', '2']),\n",
       " ('Latex and HTML SEC Group I', ['', '', '', '', '', '']),\n",
       " ('Latex and HTML SEC Group II', ['3', '3', '0', '0', '5', '5'])]"
      ]
     },
     "execution_count": 6,
     "metadata": {},
     "output_type": "execute_result"
    }
   ],
   "source": [
    "attendance_list = []\n",
    "for index,subject in enumerate(headers):\n",
    "    attendance_list.append((subject,attendance[2+index*6:2+(index+1)*6]))\n",
    "attendance_list"
   ]
  },
  {
   "cell_type": "markdown",
   "metadata": {},
   "source": [
    "### TODO\n",
    "1. Scrape individual attendance data per student \n",
    "2. Calculate necessary values for aggregate calculations and store them in dataframe or np.array\n",
    "3. Prepare data to display for individual summary and aggregate summary"
   ]
  },
  {
   "cell_type": "markdown",
   "metadata": {},
   "source": [
    "### Potential individual summary format\n",
    "- name\n",
    "- number of papers\n",
    "- for each paper\n",
    "    - paper name\n",
    "    - paper attendance\n",
    "- total attendance"
   ]
  },
  {
   "cell_type": "code",
   "execution_count": null,
   "metadata": {},
   "outputs": [],
   "source": []
  }
 ],
 "metadata": {
  "kernelspec": {
   "display_name": "scripting_kernel",
   "language": "python",
   "name": "scripting_kernel"
  },
  "language_info": {
   "codemirror_mode": {
    "name": "ipython",
    "version": 3
   },
   "file_extension": ".py",
   "mimetype": "text/x-python",
   "name": "python",
   "nbconvert_exporter": "python",
   "pygments_lexer": "ipython3",
   "version": "3.6.3"
  }
 },
 "nbformat": 4,
 "nbformat_minor": 2
}
