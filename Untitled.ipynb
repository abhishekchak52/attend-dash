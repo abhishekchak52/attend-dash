{
 "cells": [
  {
   "cell_type": "markdown",
   "metadata": {},
   "source": [
    "# Use functions for everything"
   ]
  },
  {
   "cell_type": "code",
   "execution_count": 1,
   "metadata": {},
   "outputs": [],
   "source": [
    "from requests_html import HTMLSession\n",
    "import pandas as pd\n",
    "from tqdm import tqdm_notebook, tqdm\n",
    "%matplotlib inline\n",
    "\n",
    "url = 'http://apf.ststephens.edu/attendance_stku2018'\n",
    "get_semester_url = 'http://apf.ststephens.edu/getsemesterbypro?programme_id={}'\n",
    "get_month_url = 'http://apf.ststephens.edu/getmonthbysemepro?semester_id={}&programme_id={}'"
   ]
  },
  {
   "cell_type": "code",
   "execution_count": 2,
   "metadata": {},
   "outputs": [],
   "source": [
    "def scrape_month(programme_id, semester_id, month_id, months_dict, semesters_dict,programs_dict):\n",
    "    payload = {\n",
    "        'programme' : programme_id,\n",
    "        'semester' : semester_id,\n",
    "        'month' : month_id\n",
    "    }\n",
    "    session = HTMLSession()\n",
    "    s = session.post(url, data=payload)\n",
    "    if s.status_code == 200: # A OK\n",
    "        try:\n",
    "            scraped_table = pd.read_html(s.html.html, header=1)[0] # Read the table into Pandas\n",
    "        except ValueError:\n",
    "            raise\n",
    "        # Perform some formatting to get it into order\n",
    "        scraped_table.drop(columns=scraped_table.columns.values.tolist()[-11:], inplace=True)\n",
    "        scraped_table['Month'] = months_dict[payload['month']]\n",
    "        scraped_table['Semester'] = semesters_dict[payload['semester']]\n",
    "        scraped_table['Year'] = programs_dict[payload['programme']][0]\n",
    "        scraped_table['Course'] = ' '.join(programs_dict[payload['programme']]\n",
    "                                           .split(' ')[2:]\n",
    "                                          ).replace('B. A. HONOURS ','').replace('B. SC. HONOURS ','')\n",
    "        # Identify papers and name columns accordingly\n",
    "        papers = [\n",
    "            paper.text \n",
    "            for paper in s.html.find(selector='th') \n",
    "            if 'colspan' in paper.attrs and paper.attrs['colspan'] == '6'\n",
    "        ]\n",
    "        types = ['Lectures_Held', 'Lectures_Attended',\n",
    "                 'Tutorials_Held','Tutorials_Attended',\n",
    "                 'Practicals_Held', 'Practicals_Attended',]\n",
    "        headers = ['Name']\n",
    "        for paper in papers:\n",
    "            for attendance_type in types:\n",
    "                headers.append(paper+'_'+attendance_type)     \n",
    "        headers.extend(['Month', 'Semester', 'Year', 'Course'])\n",
    "        col_names = scraped_table.columns.values.tolist()\n",
    "        col_rename = dict(zip(col_names,headers))\n",
    "        scraped_table.rename(mapper=col_rename, axis=1,inplace=True)\n",
    "        return scraped_table\n",
    "    else:\n",
    "        return None\n",
    "    session.close()\n",
    "    \n",
    "def scrape_semester(programme_id, semester_id, semesters_dict, programs_dict):\n",
    "    session = HTMLSession()\n",
    "    q = session.get(get_month_url.format(semester_id,programme_id))\n",
    "    month_dict = q.json()\n",
    "    session.close()\n",
    "    if month_dict['status'] and month_dict['month'] != []:\n",
    "        months = {}\n",
    "        for entry in month_dict['month']:\n",
    "            months[entry['month_no']] = entry['name']   \n",
    "    months_attendance = []\n",
    "    for month in tqdm_notebook(months,desc='Month', leave=False):\n",
    "        try:\n",
    "            months_attendance.append(\n",
    "                scrape_month(\n",
    "                    programme_id=programme_id,\n",
    "                    semester_id=semester_id, \n",
    "                    month_id=month, \n",
    "                    months_dict=months, \n",
    "                    semesters_dict=semesters_dict,\n",
    "                    programs_dict = programs_dict\n",
    "                )\n",
    "            )\n",
    "        except ValueError:\n",
    "            pass\n",
    "    semester_attendance = pd.concat(months_attendance)\n",
    "    return semester_attendance\n",
    "\n",
    "def scrape_course(programme_id,programs_dict):\n",
    "    session = HTMLSession()\n",
    "    p = session.get(get_semester_url.format(programme_id))\n",
    "    sem_dict = p.json()\n",
    "    session.close()\n",
    "    if sem_dict['status']:\n",
    "        semesters = {}\n",
    "        for entry in sem_dict['semester']:\n",
    "            semesters[entry['semester_id']] = entry['name']\n",
    "    semesters_attendance = []\n",
    "    for semester in tqdm_notebook(semesters,desc = 'Semester', leave=False):\n",
    "        try:\n",
    "            semesters_attendance.append(\n",
    "                scrape_semester(\n",
    "                    programme_id=programme_id,\n",
    "                    semester_id=semester,\n",
    "                    semesters_dict=semesters,\n",
    "                    programs_dict=programs_dict\n",
    "                )\n",
    "            )\n",
    "        except ValueError:\n",
    "            pass\n",
    "    total_attendance = pd.concat(semesters_attendance)\n",
    "    return total_attendance\n",
    "def scrape_attendance():\n",
    "   \n",
    "    session = HTMLSession()\n",
    "    r = session.get(url) \n",
    "    course_options = r.html.find('option')[1:33]\n",
    "    session.close()\n",
    "    programs = {  course.attrs['value'] : course.text\n",
    "            for course in course_options }\n",
    "    all_attendance = []\n",
    "    for program in tqdm_notebook(programs, desc='Program'):\n",
    "        df = scrape_course(program, programs)\n",
    "        all_attendance.append(df)\n",
    "    attendance_df = pd.concat(all_attendance)\n",
    "    return tidy_scraped(attendance_df)\n",
    "        \n",
    "    \n",
    "\n",
    "def tidy_scraped(scraped_table):\n",
    "    scraped_melted = pd.melt(scraped_table,id_vars=['Name', 'Month', 'Semester','Year','Course'], var_name='Paper_Attendance')\n",
    "    paper_types = scraped_melted['Paper_Attendance'].str.split('_')\n",
    "    paper_names = paper_types.str.get(0)\n",
    "    class_type = paper_types.str.get(1)\n",
    "    attendance_type = paper_types.str.get(2)\n",
    "    scraped_melted['Paper Name'] = paper_names\n",
    "    scraped_melted['Class Type'] = class_type\n",
    "    scraped_melted['Attendance Type'] = attendance_type\n",
    "    scraped_melted.drop('Paper_Attendance', axis =1, inplace=True)\n",
    "    attend_tidy = scraped_melted.pivot_table(\n",
    "        index=['Year','Course','Name', 'Semester','Paper Name', 'Month', 'Class Type'],\n",
    "        columns='Attendance Type',\n",
    "        values='value'\n",
    "    )\n",
    "    attend_tidy['Percent'] = (attend_tidy['Attended']/attend_tidy['Held']*100).round(2)\n",
    "    attend_tidy.dropna(axis=0, how='any', inplace=True)\n",
    "    return attend_tidy"
   ]
  },
  {
   "cell_type": "code",
   "execution_count": null,
   "metadata": {},
   "outputs": [
    {
     "data": {
      "application/vnd.jupyter.widget-view+json": {
       "model_id": "28ee316ebe5a43d18224dc5c43e4ad78",
       "version_major": 2,
       "version_minor": 0
      },
      "text/html": [
       "<p>Failed to display Jupyter Widget of type <code>HBox</code>.</p>\n",
       "<p>\n",
       "  If you're reading this message in the Jupyter Notebook or JupyterLab Notebook, it may mean\n",
       "  that the widgets JavaScript is still loading. If this message persists, it\n",
       "  likely means that the widgets JavaScript library is either not installed or\n",
       "  not enabled. See the <a href=\"https://ipywidgets.readthedocs.io/en/stable/user_install.html\">Jupyter\n",
       "  Widgets Documentation</a> for setup instructions.\n",
       "</p>\n",
       "<p>\n",
       "  If you're reading this message in another frontend (for example, a static\n",
       "  rendering on GitHub or <a href=\"https://nbviewer.jupyter.org/\">NBViewer</a>),\n",
       "  it may mean that your frontend doesn't currently support widgets.\n",
       "</p>\n"
      ],
      "text/plain": [
       "HBox(children=(IntProgress(value=0, description='Program', max=32), HTML(value='')))"
      ]
     },
     "metadata": {},
     "output_type": "display_data"
    },
    {
     "data": {
      "application/vnd.jupyter.widget-view+json": {
       "model_id": "20e507ab9ebf43ad968e341618b3101b",
       "version_major": 2,
       "version_minor": 0
      },
      "text/html": [
       "<p>Failed to display Jupyter Widget of type <code>HBox</code>.</p>\n",
       "<p>\n",
       "  If you're reading this message in the Jupyter Notebook or JupyterLab Notebook, it may mean\n",
       "  that the widgets JavaScript is still loading. If this message persists, it\n",
       "  likely means that the widgets JavaScript library is either not installed or\n",
       "  not enabled. See the <a href=\"https://ipywidgets.readthedocs.io/en/stable/user_install.html\">Jupyter\n",
       "  Widgets Documentation</a> for setup instructions.\n",
       "</p>\n",
       "<p>\n",
       "  If you're reading this message in another frontend (for example, a static\n",
       "  rendering on GitHub or <a href=\"https://nbviewer.jupyter.org/\">NBViewer</a>),\n",
       "  it may mean that your frontend doesn't currently support widgets.\n",
       "</p>\n"
      ],
      "text/plain": [
       "HBox(children=(IntProgress(value=0, description='Semester', max=2), HTML(value='')))"
      ]
     },
     "metadata": {},
     "output_type": "display_data"
    },
    {
     "name": "stdout",
     "output_type": "stream",
     "text": [
      "\n"
     ]
    },
    {
     "name": "stderr",
     "output_type": "stream",
     "text": [
      "Exception in thread Thread-6:\n",
      "Traceback (most recent call last):\n",
      "  File \"C:\\Users\\abhis\\AppData\\Local\\Continuum\\miniconda3\\Lib\\threading.py\", line 916, in _bootstrap_inner\n",
      "    self.run()\n",
      "  File \"C:\\Users\\abhis\\.virtualenvs\\attend-dash-PlWwuj0B\\lib\\site-packages\\tqdm\\_tqdm.py\", line 148, in run\n",
      "    for instance in self.tqdm_cls._instances:\n",
      "  File \"C:\\Users\\abhis\\.virtualenvs\\attend-dash-PlWwuj0B\\lib\\_weakrefset.py\", line 60, in __iter__\n",
      "    for itemref in self.data:\n",
      "RuntimeError: Set changed size during iteration\n",
      "\n"
     ]
    },
    {
     "data": {
      "application/vnd.jupyter.widget-view+json": {
       "model_id": "d3ce929a4846422a844adc9fa17c2817",
       "version_major": 2,
       "version_minor": 0
      },
      "text/html": [
       "<p>Failed to display Jupyter Widget of type <code>HBox</code>.</p>\n",
       "<p>\n",
       "  If you're reading this message in the Jupyter Notebook or JupyterLab Notebook, it may mean\n",
       "  that the widgets JavaScript is still loading. If this message persists, it\n",
       "  likely means that the widgets JavaScript library is either not installed or\n",
       "  not enabled. See the <a href=\"https://ipywidgets.readthedocs.io/en/stable/user_install.html\">Jupyter\n",
       "  Widgets Documentation</a> for setup instructions.\n",
       "</p>\n",
       "<p>\n",
       "  If you're reading this message in another frontend (for example, a static\n",
       "  rendering on GitHub or <a href=\"https://nbviewer.jupyter.org/\">NBViewer</a>),\n",
       "  it may mean that your frontend doesn't currently support widgets.\n",
       "</p>\n"
      ],
      "text/plain": [
       "HBox(children=(IntProgress(value=0, description='Month', max=5), HTML(value='')))"
      ]
     },
     "metadata": {},
     "output_type": "display_data"
    },
    {
     "data": {
      "application/vnd.jupyter.widget-view+json": {
       "model_id": "c11d6a98bed04312b650d4d49a1149e8",
       "version_major": 2,
       "version_minor": 0
      },
      "text/html": [
       "<p>Failed to display Jupyter Widget of type <code>HBox</code>.</p>\n",
       "<p>\n",
       "  If you're reading this message in the Jupyter Notebook or JupyterLab Notebook, it may mean\n",
       "  that the widgets JavaScript is still loading. If this message persists, it\n",
       "  likely means that the widgets JavaScript library is either not installed or\n",
       "  not enabled. See the <a href=\"https://ipywidgets.readthedocs.io/en/stable/user_install.html\">Jupyter\n",
       "  Widgets Documentation</a> for setup instructions.\n",
       "</p>\n",
       "<p>\n",
       "  If you're reading this message in another frontend (for example, a static\n",
       "  rendering on GitHub or <a href=\"https://nbviewer.jupyter.org/\">NBViewer</a>),\n",
       "  it may mean that your frontend doesn't currently support widgets.\n",
       "</p>\n"
      ],
      "text/plain": [
       "HBox(children=(IntProgress(value=0, description='Month', max=5), HTML(value='')))"
      ]
     },
     "metadata": {},
     "output_type": "display_data"
    }
   ],
   "source": [
    "df = scrape_attendance()"
   ]
  },
  {
   "cell_type": "code",
   "execution_count": null,
   "metadata": {},
   "outputs": [],
   "source": [
    "df.to_pickle('scraped_data.pkl')"
   ]
  },
  {
   "cell_type": "code",
   "execution_count": null,
   "metadata": {},
   "outputs": [],
   "source": [
    "df= pd.from_pickle('scraped_data.pkl')"
   ]
  },
  {
   "cell_type": "code",
   "execution_count": 89,
   "metadata": {},
   "outputs": [
    {
     "data": {
      "text/html": [
       "<div>\n",
       "<style scoped>\n",
       "    .dataframe tbody tr th:only-of-type {\n",
       "        vertical-align: middle;\n",
       "    }\n",
       "\n",
       "    .dataframe tbody tr th {\n",
       "        vertical-align: top;\n",
       "    }\n",
       "\n",
       "    .dataframe thead th {\n",
       "        text-align: right;\n",
       "    }\n",
       "</style>\n",
       "<table border=\"1\" class=\"dataframe\">\n",
       "  <thead>\n",
       "    <tr style=\"text-align: right;\">\n",
       "      <th></th>\n",
       "      <th>Attendance Type</th>\n",
       "      <th>Attended</th>\n",
       "      <th>Held</th>\n",
       "      <th>Percent</th>\n",
       "    </tr>\n",
       "    <tr>\n",
       "      <th>Course</th>\n",
       "      <th>Year</th>\n",
       "      <th></th>\n",
       "      <th></th>\n",
       "      <th></th>\n",
       "    </tr>\n",
       "  </thead>\n",
       "  <tbody>\n",
       "    <tr>\n",
       "      <th>B. A. PROGRAMME</th>\n",
       "      <th>I</th>\n",
       "      <td>11356.0</td>\n",
       "      <td>20321.0</td>\n",
       "      <td>128562.99</td>\n",
       "    </tr>\n",
       "    <tr>\n",
       "      <th>SANSKRIT</th>\n",
       "      <th>I</th>\n",
       "      <td>4252.0</td>\n",
       "      <td>4596.0</td>\n",
       "      <td>40812.04</td>\n",
       "    </tr>\n",
       "  </tbody>\n",
       "</table>\n",
       "</div>"
      ],
      "text/plain": [
       "Attendance Type       Attended     Held    Percent\n",
       "Course          Year                              \n",
       "B. A. PROGRAMME I      11356.0  20321.0  128562.99\n",
       "SANSKRIT        I       4252.0   4596.0   40812.04"
      ]
     },
     "execution_count": 89,
     "metadata": {},
     "output_type": "execute_result"
    }
   ],
   "source": [
    "df.groupby(['Course','Year']).sum()"
   ]
  },
  {
   "cell_type": "code",
   "execution_count": 50,
   "metadata": {},
   "outputs": [],
   "source": [
    "test = {'10': 'I YEAR SANSKRIT',\n",
    " '13': 'II YEAR B. A. PROGRAMME'\n",
    "       }"
   ]
  },
  {
   "cell_type": "code",
   "execution_count": 51,
   "metadata": {},
   "outputs": [
    {
     "data": {
      "application/vnd.jupyter.widget-view+json": {
       "model_id": "7e6c9490ab7a4bc785627055a3c43391",
       "version_major": 2,
       "version_minor": 0
      },
      "text/html": [
       "<p>Failed to display Jupyter Widget of type <code>HBox</code>.</p>\n",
       "<p>\n",
       "  If you're reading this message in the Jupyter Notebook or JupyterLab Notebook, it may mean\n",
       "  that the widgets JavaScript is still loading. If this message persists, it\n",
       "  likely means that the widgets JavaScript library is either not installed or\n",
       "  not enabled. See the <a href=\"https://ipywidgets.readthedocs.io/en/stable/user_install.html\">Jupyter\n",
       "  Widgets Documentation</a> for setup instructions.\n",
       "</p>\n",
       "<p>\n",
       "  If you're reading this message in another frontend (for example, a static\n",
       "  rendering on GitHub or <a href=\"https://nbviewer.jupyter.org/\">NBViewer</a>),\n",
       "  it may mean that your frontend doesn't currently support widgets.\n",
       "</p>\n"
      ],
      "text/plain": [
       "HBox(children=(IntProgress(value=0, description='Program', max=2), HTML(value='')))"
      ]
     },
     "metadata": {},
     "output_type": "display_data"
    },
    {
     "data": {
      "application/vnd.jupyter.widget-view+json": {
       "model_id": "f02721cf51884b968cbdf4a80bbdef22",
       "version_major": 2,
       "version_minor": 0
      },
      "text/html": [
       "<p>Failed to display Jupyter Widget of type <code>HBox</code>.</p>\n",
       "<p>\n",
       "  If you're reading this message in the Jupyter Notebook or JupyterLab Notebook, it may mean\n",
       "  that the widgets JavaScript is still loading. If this message persists, it\n",
       "  likely means that the widgets JavaScript library is either not installed or\n",
       "  not enabled. See the <a href=\"https://ipywidgets.readthedocs.io/en/stable/user_install.html\">Jupyter\n",
       "  Widgets Documentation</a> for setup instructions.\n",
       "</p>\n",
       "<p>\n",
       "  If you're reading this message in another frontend (for example, a static\n",
       "  rendering on GitHub or <a href=\"https://nbviewer.jupyter.org/\">NBViewer</a>),\n",
       "  it may mean that your frontend doesn't currently support widgets.\n",
       "</p>\n"
      ],
      "text/plain": [
       "HBox(children=(IntProgress(value=0, description='Semester', max=2), HTML(value='')))"
      ]
     },
     "metadata": {},
     "output_type": "display_data"
    },
    {
     "data": {
      "application/vnd.jupyter.widget-view+json": {
       "model_id": "e255e826c83644d0a7b0b9560c0bb50f",
       "version_major": 2,
       "version_minor": 0
      },
      "text/html": [
       "<p>Failed to display Jupyter Widget of type <code>HBox</code>.</p>\n",
       "<p>\n",
       "  If you're reading this message in the Jupyter Notebook or JupyterLab Notebook, it may mean\n",
       "  that the widgets JavaScript is still loading. If this message persists, it\n",
       "  likely means that the widgets JavaScript library is either not installed or\n",
       "  not enabled. See the <a href=\"https://ipywidgets.readthedocs.io/en/stable/user_install.html\">Jupyter\n",
       "  Widgets Documentation</a> for setup instructions.\n",
       "</p>\n",
       "<p>\n",
       "  If you're reading this message in another frontend (for example, a static\n",
       "  rendering on GitHub or <a href=\"https://nbviewer.jupyter.org/\">NBViewer</a>),\n",
       "  it may mean that your frontend doesn't currently support widgets.\n",
       "</p>\n"
      ],
      "text/plain": [
       "HBox(children=(IntProgress(value=0, description='Month', max=5), HTML(value='')))"
      ]
     },
     "metadata": {},
     "output_type": "display_data"
    },
    {
     "data": {
      "application/vnd.jupyter.widget-view+json": {
       "model_id": "4fb473376d8a4a71ae5aee40a7e4581c",
       "version_major": 2,
       "version_minor": 0
      },
      "text/html": [
       "<p>Failed to display Jupyter Widget of type <code>HBox</code>.</p>\n",
       "<p>\n",
       "  If you're reading this message in the Jupyter Notebook or JupyterLab Notebook, it may mean\n",
       "  that the widgets JavaScript is still loading. If this message persists, it\n",
       "  likely means that the widgets JavaScript library is either not installed or\n",
       "  not enabled. See the <a href=\"https://ipywidgets.readthedocs.io/en/stable/user_install.html\">Jupyter\n",
       "  Widgets Documentation</a> for setup instructions.\n",
       "</p>\n",
       "<p>\n",
       "  If you're reading this message in another frontend (for example, a static\n",
       "  rendering on GitHub or <a href=\"https://nbviewer.jupyter.org/\">NBViewer</a>),\n",
       "  it may mean that your frontend doesn't currently support widgets.\n",
       "</p>\n"
      ],
      "text/plain": [
       "HBox(children=(IntProgress(value=0, description='Month', max=5), HTML(value='')))"
      ]
     },
     "metadata": {},
     "output_type": "display_data"
    },
    {
     "data": {
      "application/vnd.jupyter.widget-view+json": {
       "model_id": "0d14f299c2af4a339d979443c850406d",
       "version_major": 2,
       "version_minor": 0
      },
      "text/html": [
       "<p>Failed to display Jupyter Widget of type <code>HBox</code>.</p>\n",
       "<p>\n",
       "  If you're reading this message in the Jupyter Notebook or JupyterLab Notebook, it may mean\n",
       "  that the widgets JavaScript is still loading. If this message persists, it\n",
       "  likely means that the widgets JavaScript library is either not installed or\n",
       "  not enabled. See the <a href=\"https://ipywidgets.readthedocs.io/en/stable/user_install.html\">Jupyter\n",
       "  Widgets Documentation</a> for setup instructions.\n",
       "</p>\n",
       "<p>\n",
       "  If you're reading this message in another frontend (for example, a static\n",
       "  rendering on GitHub or <a href=\"https://nbviewer.jupyter.org/\">NBViewer</a>),\n",
       "  it may mean that your frontend doesn't currently support widgets.\n",
       "</p>\n"
      ],
      "text/plain": [
       "HBox(children=(IntProgress(value=0, description='Semester', max=2), HTML(value='')))"
      ]
     },
     "metadata": {},
     "output_type": "display_data"
    },
    {
     "data": {
      "application/vnd.jupyter.widget-view+json": {
       "model_id": "c6e10f533006454cbbedece34ed89052",
       "version_major": 2,
       "version_minor": 0
      },
      "text/html": [
       "<p>Failed to display Jupyter Widget of type <code>HBox</code>.</p>\n",
       "<p>\n",
       "  If you're reading this message in the Jupyter Notebook or JupyterLab Notebook, it may mean\n",
       "  that the widgets JavaScript is still loading. If this message persists, it\n",
       "  likely means that the widgets JavaScript library is either not installed or\n",
       "  not enabled. See the <a href=\"https://ipywidgets.readthedocs.io/en/stable/user_install.html\">Jupyter\n",
       "  Widgets Documentation</a> for setup instructions.\n",
       "</p>\n",
       "<p>\n",
       "  If you're reading this message in another frontend (for example, a static\n",
       "  rendering on GitHub or <a href=\"https://nbviewer.jupyter.org/\">NBViewer</a>),\n",
       "  it may mean that your frontend doesn't currently support widgets.\n",
       "</p>\n"
      ],
      "text/plain": [
       "HBox(children=(IntProgress(value=0, description='Month', max=5), HTML(value='')))"
      ]
     },
     "metadata": {},
     "output_type": "display_data"
    },
    {
     "data": {
      "application/vnd.jupyter.widget-view+json": {
       "model_id": "f42f55d1f6564d10889331e3fc03b5d0",
       "version_major": 2,
       "version_minor": 0
      },
      "text/html": [
       "<p>Failed to display Jupyter Widget of type <code>HBox</code>.</p>\n",
       "<p>\n",
       "  If you're reading this message in the Jupyter Notebook or JupyterLab Notebook, it may mean\n",
       "  that the widgets JavaScript is still loading. If this message persists, it\n",
       "  likely means that the widgets JavaScript library is either not installed or\n",
       "  not enabled. See the <a href=\"https://ipywidgets.readthedocs.io/en/stable/user_install.html\">Jupyter\n",
       "  Widgets Documentation</a> for setup instructions.\n",
       "</p>\n",
       "<p>\n",
       "  If you're reading this message in another frontend (for example, a static\n",
       "  rendering on GitHub or <a href=\"https://nbviewer.jupyter.org/\">NBViewer</a>),\n",
       "  it may mean that your frontend doesn't currently support widgets.\n",
       "</p>\n"
      ],
      "text/plain": [
       "HBox(children=(IntProgress(value=0, description='Month', max=5), HTML(value='')))"
      ]
     },
     "metadata": {},
     "output_type": "display_data"
    },
    {
     "name": "stdout",
     "output_type": "stream",
     "text": [
      "\n"
     ]
    }
   ],
   "source": [
    "for program in tqdm_notebook(test, desc='Program'):\n",
    "    df = scrape_course(program, programs)\n",
    "    df.to_csv('./data/raw/{}.csv'.format(programs[program]))\n",
    "    df2 = tidy_scraped(df)\n",
    "    df2.to_csv('./data/tidy/{}.csv'.format(programs[program]))"
   ]
  },
  {
   "cell_type": "code",
   "execution_count": 53,
   "metadata": {},
   "outputs": [],
   "source": [
    "names = index.get_level_values(0).unique().tolist()"
   ]
  },
  {
   "cell_type": "code",
   "execution_count": 95,
   "metadata": {},
   "outputs": [
    {
     "data": {
      "text/plain": [
       "Month\n",
       "August        86.183750\n",
       "February      87.550000\n",
       "January       79.488333\n",
       "July         100.000000\n",
       "November       7.575000\n",
       "October       57.576250\n",
       "September     65.830000\n",
       "Name: Percent, dtype: float64"
      ]
     },
     "execution_count": 95,
     "metadata": {},
     "output_type": "execute_result"
    }
   ],
   "source": [
    "att = df2.loc['Ojaswini Shekhawat']\n",
    "att.groupby('Month').mean()['Percent']"
   ]
  },
  {
   "cell_type": "code",
   "execution_count": 69,
   "metadata": {},
   "outputs": [
    {
     "data": {
      "text/plain": [
       "Month\n",
       "August        86.183750\n",
       "February      87.550000\n",
       "January       79.488333\n",
       "July         100.000000\n",
       "November       7.575000\n",
       "October       57.576250\n",
       "September     65.830000\n",
       "Name: Percent, dtype: float64"
      ]
     },
     "execution_count": 69,
     "metadata": {},
     "output_type": "execute_result"
    }
   ],
   "source": [
    "att.groupby('Month').mean()['Percent']"
   ]
  }
 ],
 "metadata": {
  "kernelspec": {
   "display_name": "Attendance Dashboard (Pipenv)",
   "language": "python",
   "name": "attend_dash"
  },
  "language_info": {
   "codemirror_mode": {
    "name": "ipython",
    "version": 3
   },
   "file_extension": ".py",
   "mimetype": "text/x-python",
   "name": "python",
   "nbconvert_exporter": "python",
   "pygments_lexer": "ipython3",
   "version": "3.6.4"
  }
 },
 "nbformat": 4,
 "nbformat_minor": 2
}
